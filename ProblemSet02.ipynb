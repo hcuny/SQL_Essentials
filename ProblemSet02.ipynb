{
 "cells": [
  {
   "cell_type": "markdown",
   "metadata": {
    "course": "Comp521F16",
    "problemset": 2,
    "section": "header"
   },
   "source": [
    "<div style=\"text-align: center;\">\n",
    "<h1>The University of North Carolina at Chapel Hill</h1>\n",
    "<h1>Comp 521 Files and Databases - Fall 2016</h1>\n",
    "<h1 style=\"font-size: 250%;\">Problem Set #2</h1>\n",
    "<h1 style=\"font-size: 200%;\">Version 1.1</h1>\n",
    "<h1>Issued Friday 09/16/2016; Due Monday 09/26/2016</h1>\n",
    "</div>\n",
    "\n",
    "**Homework Information:** The answer cells in this notebook contain metadata that enable it to be automatically parsed. Thus, you must enter your answers *only* into the cells provided. Do not delete any answer cell and/or add a new one to replace it. If you do so by accident, download a new copy of the problem set's notebook and transfer your answers into it. You can introduce new 'coding' cells in an effort to test your approaches to problems, however, these introduced cells will not be considered when grading.\n",
    "\n",
    "Finally, some of the problems are probably too long to be done the night before the due date, so plan accordingly. Late problem sets will be penalized by a factor of 70.71% for each class meeting after their due date. Feel free to get help from others, but the work you submit in should be your own."
   ]
  },
  {
   "cell_type": "code",
   "execution_count": 1,
   "metadata": {
    "collapsed": true,
    "section": "signature"
   },
   "outputs": [],
   "source": [
    "# Do not make any edits in this cell!\n",
    "class Student:\n",
    "    first = \"Cunyuan\"\n",
    "    last = \"Huang\"\n",
    "    onyen = \"hcuny\"\n",
    "    pid = \"730041361\""
   ]
  },
  {
   "cell_type": "markdown",
   "metadata": {
    "section": "setup"
   },
   "source": [
    "In the following questions you are asked to write a single SQL query to find the requested results from the Movies data described in problem set #1.\n",
    " <table style=\"border:none;\"><tbody>\n",
    "        <tr style=\"border:none;\">\n",
    "            <td style=\"padding:0px 20px;border:none;\">\n",
    "            <table><tbody>\n",
    "            <tr><th colspan=\"6\" style=\"text-align:center;\">Movies</th></tr>\n",
    "            <tr><td><u>mid</u></td>\n",
    "                <td>title</td>\n",
    "                <td>releasedate</td>\n",
    "                <td>runtime</td>\n",
    "                <td>revenue</td>\n",
    "                <td>budget</td>\n",
    "            </tr>\n",
    "            </tbody></table>\n",
    "            </td>\n",
    "            <td style=\"padding:0px 20px;border:none;\">\n",
    "            <table><tbody>\n",
    "            <tr><th colspan=\"4\" style=\"text-align:center;\">Cast</th></tr>\n",
    "            <tr><td><u>mid</u></td>\n",
    "                <td><u>billing</u></td>\n",
    "                <td><u>aid</u></td>\n",
    "                <td>role</td>\n",
    "            </tr>\n",
    "            </tbody></table>\n",
    "            </td>\n",
    "            <td style=\"padding:0px 20px;border:none;\">\n",
    "            <table><tbody>\n",
    "            <tr><th colspan=\"4\" style=\"text-align:center;\">Actors</th></tr>\n",
    "            <tr><td><u>aid</u></td>\n",
    "                <td>name</td>\n",
    "                <td>gender</td>\n",
    "                <td>birthdate</td>\n",
    "            </tr>\n",
    "            </tbody></table>\n",
    "            </td>\n",
    "        </tr>\n",
    "        </tbody></table>\n",
    "\n",
    "An <a href=\"http://csbio.unc.edu/mcmillan/Media/movies.db\" download>example database</a> and the interactive SQL parser (<a href=\"http://csbio.unc.edu/mcmillan/Media/iSQL.zip\" download>iSQL.zip</a>) are provided for experimentation. You will need to unzip and copy iSQL.py into the same directory as the notebook for this problem set and invoke it as follows:\n",
    "\n",
    "\n",
    "    import iSQL\n",
    "    \n",
    "    query = iSQL.parser(\"movies.db\")\n",
    "    </code>\n",
    "    \n",
    "\n",
    "Make sure that you copy your final SQL query into the cell provided for your answer. Only that cell will be graded.\n",
    "***Warning***, if your query appears to give the correct result for the given database, that does not mean that it is correct. A correct query must give the requested result for *any* and *all* valid instances of the given database schema."
   ]
  },
  {
   "cell_type": "markdown",
   "metadata": {
    "case": 0,
    "key": "Batman",
    "number": 1,
    "section": "problem"
   },
   "source": [
    "---\n",
    "**Problem 1:** Find the titles and release dates of all movies for which \"Batman\" appears in the title (Hint: You should \"like\" Batman):"
   ]
  },
  {
   "cell_type": "raw",
   "metadata": {
    "case": 0,
    "key": "Batman",
    "number": 1,
    "section": "answer"
   },
   "source": [
    "select title, release from movies m\n",
    "where m.title like '%Batman%';\n"
   ]
  },
  {
   "cell_type": "markdown",
   "metadata": {
    "case": 1,
    "key": "Batman",
    "number": 2,
    "section": "problem"
   },
   "source": [
    "---\n",
    "**Problem 2:** Find the first and last name of each actor that played the role of \"Batman\":"
   ]
  },
  {
   "cell_type": "raw",
   "metadata": {
    "case": 1,
    "key": "Batman",
    "number": 2,
    "section": "answer"
   },
   "source": [
    "select name from actors a\n",
    "inner join cast c \n",
    "on a.aid=c.aid\n",
    "where c.role=\"Batman\""
   ]
  },
  {
   "cell_type": "markdown",
   "metadata": {
    "case": 2,
    "key": "Batman",
    "number": 3,
    "section": "problem"
   },
   "source": [
    "---\n",
    "**Problem 3:** Find the titles of movies that include a character called \"Batman\", that do not include the word \"Batman\" in their title:"
   ]
  },
  {
   "cell_type": "raw",
   "metadata": {
    "case": 2,
    "key": "Batman",
    "number": 3,
    "section": "answer"
   },
   "source": [
    "select title from movies m\n",
    "inner join cast c\n",
    "on m.mid=c.mid\n",
    "where c.role like \"%Batman%\"\n",
    "And m.title not like \"%Batman%\";"
   ]
  },
  {
   "cell_type": "markdown",
   "metadata": {
    "case": 3,
    "key": "Batman",
    "number": 4,
    "section": "problem"
   },
   "source": [
    "---\n",
    "**Problem 4:** Find the names of actors that played characters called \"Batman\" and \"Catwoman\" in the same Movie:"
   ]
  },
  {
   "cell_type": "raw",
   "metadata": {
    "case": 3,
    "key": "Batman",
    "number": 4,
    "section": "answer"
   },
   "source": [
    "select x.name Batman, y.name Catwoman from\n",
    "(select a.name,c.mid from actors a\n",
    "inner join cast c \n",
    "on a.aid=c.aid\n",
    "where c.role like \"%Batman%\") x\n",
    "inner join\n",
    "(select a.name,c.mid from actors a\n",
    "inner join cast c \n",
    "on a.aid=c.aid\n",
    "where c.role like \"%Catwoman%\") y\n",
    "on x.mid=y.mid"
   ]
  },
  {
   "cell_type": "markdown",
   "metadata": {
    "case": 6,
    "key": "Batman",
    "number": 5,
    "section": "problem"
   },
   "source": [
    "---\n",
    "**Problem 5:** Find all the actors that have played the role \"Batman\" in a movie more than once:"
   ]
  },
  {
   "cell_type": "raw",
   "metadata": {
    "case": 6,
    "key": "Batman",
    "number": 5,
    "section": "answer"
   },
   "source": [
    "select name from actors a\n",
    "inner join cast c\n",
    "on a.aid=c.aid\n",
    "where c.role like \"%Batman%\"\n",
    "group by a.aid\n",
    "having count(*)>1;"
   ]
  },
  {
   "cell_type": "markdown",
   "metadata": {
    "case": 7,
    "key": "Batman",
    "number": 6,
    "section": "problem"
   },
   "source": [
    "---\n",
    "**Problem 6:** Find all the actors that have reprised a role in more than one \"Batman\" movie:"
   ]
  },
  {
   "cell_type": "raw",
   "metadata": {
    "case": 7,
    "key": "Batman",
    "number": 6,
    "section": "answer"
   },
   "source": [
    "select a.name from actors a\n",
    "inner join cast c\n",
    "on a.aid=c.aid\n",
    "inner join movies m\n",
    "on c.mid=m.mid\n",
    "where m.mid in\n",
    "(select m.mid from movies m\n",
    "where m.title like '%Batman%')\n",
    "group by c.aid\n",
    "having count(c.role)>1;"
   ]
  },
  {
   "cell_type": "markdown",
   "metadata": {
    "case": 3,
    "key": "Batman",
    "number": 7,
    "section": "problem"
   },
   "source": [
    "---\n",
    "**Problem 7:** What actor appeared in the most movies grossing over $10 millon dollars?:"
   ]
  },
  {
   "cell_type": "raw",
   "metadata": {
    "case": 3,
    "key": "common",
    "number": 7,
    "section": "answer"
   },
   "source": [
    "select a.name from actors a\n",
    "inner join cast c\n",
    "on a.aid=c.aid\n",
    "inner join movies m\n",
    "on m.mid=c.mid\n",
    "where m.revenue>10000000\n",
    "group by a.aid\n",
    "having count(m.mid) =(select max(y.num)\n",
    "from ( select count(m.mid) num\n",
    "from actors a\n",
    "inner join cast c\n",
    "on a.aid=c.aid\n",
    "inner join movies m\n",
    "on m.mid=c.mid\n",
    "where m.revenue>10000000\n",
    "group by a.aid) y)"
   ]
  },
  {
   "cell_type": "markdown",
   "metadata": {
    "case": 4,
    "key": "Batman",
    "number": 8,
    "section": "problem"
   },
   "source": [
    "---\n",
    "**Problem 8:** How many movies were released in each year? (Hint: SELECT DISTINCT strftime('%Y',release) FROM Movies)"
   ]
  },
  {
   "cell_type": "raw",
   "metadata": {
    "case": 4,
    "key": "common",
    "number": 8,
    "section": "answer"
   },
   "source": [
    "select count(m.mid) number, strftime('%Y', release) year \n",
    "from movies m\n",
    "group by strftime('%Y', release); \n"
   ]
  },
  {
   "cell_type": "markdown",
   "metadata": {
    "case": 6,
    "key": "Batman",
    "number": 9,
    "section": "problem"
   },
   "source": [
    "---\n",
    "**Problem 9:** What actor-actress pair appear in the most Movies together?"
   ]
  },
  {
   "cell_type": "raw",
   "metadata": {
    "case": 6,
    "key": "common",
    "number": 9,
    "section": "answer"
   },
   "source": [
    "select x.name Actor, y.name Actress, count(x.mid) number from\n",
    "(select a.name,c.mid from actors a\n",
    "inner join cast c \n",
    "on a.aid=c.aid\n",
    "where a.gender='M') x\n",
    "inner join\n",
    "(select a.name,c.mid from actors a\n",
    "inner join cast c \n",
    "on a.aid=c.aid\n",
    "where a.gender='F') y\n",
    "on x.mid=y.mid\n",
    "group by Actor, Actress\n",
    "having number= (select max(z.number) from\n",
    "(select count(x.mid) number from\n",
    "(select a.name,c.mid from actors a\n",
    "inner join cast c \n",
    "on a.aid=c.aid\n",
    "where a.gender='M') x\n",
    "inner join\n",
    "(select a.name,c.mid from actors a\n",
    "inner join cast c \n",
    "on a.aid=c.aid\n",
    "where a.gender='F') y\n",
    "on x.mid=y.mid\n",
    "group by x.name,y.name) z)"
   ]
  },
  {
   "cell_type": "markdown",
   "metadata": {
    "case": 7,
    "key": "Batman",
    "number": 10,
    "section": "problem"
   },
   "source": [
    "---\n",
    "**Problem 10:** What movie title is the most repeated?"
   ]
  },
  {
   "cell_type": "raw",
   "metadata": {
    "case": 7,
    "key": "common",
    "number": 10,
    "section": "answer"
   },
   "source": [
    "select m.title from movies m\n",
    "group by m.title\n",
    "having count(m.mid) =\n",
    "(select max(y.num) from \n",
    "(select count(m.mid) num\n",
    "from movies m\n",
    "group by m.title) y);"
   ]
  },
  {
   "cell_type": "markdown",
   "metadata": {
    "case": 9,
    "key": "Batman",
    "number": 11,
    "section": "problem"
   },
   "source": [
    "---\n",
    "**Problem 11:** What role is the most common across all movies?"
   ]
  },
  {
   "cell_type": "raw",
   "metadata": {
    "case": 9,
    "key": "common",
    "number": 11,
    "section": "answer"
   },
   "source": [
    "select c.role, count(c.mid) from Cast c\n",
    "group by c.mid\n",
    "having count(c.mid)=(select max(y.num)\n",
    "from (select count(c.mid) num from Cast c group by c.mid) y);"
   ]
  },
  {
   "cell_type": "markdown",
   "metadata": {
    "case": 10,
    "key": "Batman",
    "number": 12,
    "section": "problem"
   },
   "source": [
    "---\n",
    "**Problem 12:** What actor's movie career has spanned the longest number of years?"
   ]
  },
  {
   "cell_type": "raw",
   "metadata": {
    "case": 10,
    "key": "common",
    "number": 12,
    "section": "answer"
   },
   "source": [
    "select a.name\n",
    "from movies m\n",
    "inner join cast c \n",
    "on m.mid=c.mid\n",
    "inner join actors a\n",
    "on a.aid=c.aid\n",
    "group by c.aid\n",
    "having (max(m.release)-min(m.release))=(select max(y.num) from\n",
    "(select  max(m.release)-min(m.release) num\n",
    "from movies m\n",
    "inner join cast c \n",
    "on m.mid=c.mid\n",
    "inner join actors a\n",
    "on a.aid=c.aid\n",
    "group by c.aid) y);\n"
   ]
  },
  {
   "cell_type": "markdown",
   "metadata": {},
   "source": [
    "Click [here to submit](http://csbio.unc.edu/mcmillan/index.py?run=PS.upload) your completed problem set.\n",
    "\n",
    "You can submit it as many times as you would like, but only the last submitted version will be graded. If the last submission was after the due date the final score will be reduced accordingly. "
   ]
  }
 ],
 "metadata": {
  "anaconda-cloud": {},
  "kernelspec": {
   "display_name": "Python [py27]",
   "language": "python",
   "name": "Python [py27]"
  },
  "language_info": {
   "codemirror_mode": {
    "name": "ipython",
    "version": 2
   },
   "file_extension": ".py",
   "mimetype": "text/x-python",
   "name": "python",
   "nbconvert_exporter": "python",
   "pygments_lexer": "ipython2",
   "version": "2.7.12"
  }
 },
 "nbformat": 4,
 "nbformat_minor": 0
}
